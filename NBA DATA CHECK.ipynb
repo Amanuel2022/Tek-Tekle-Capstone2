{
 "cells": [
  {
   "cell_type": "code",
   "execution_count": 25,
   "id": "90c64d70",
   "metadata": {},
   "outputs": [],
   "source": [
    "# importing libraries and making data frame from csv file\n",
    "import numpy as np \n",
    "import pandas as pd \n",
    "import matplotlib.pyplot as plt\n",
    "import seaborn as sns\n",
    "from scipy import stats\n",
    "%matplotlib inline\n",
    "sns.set(color_codes=True)\n",
    "\n",
    "players = pd.read_csv(\"Players.csv\")\n",
    "ssc = pd.read_csv('SSC.csv')"
   ]
  },
  {
   "cell_type": "code",
   "execution_count": 2,
   "id": "87ce6a9e",
   "metadata": {
    "scrolled": true
   },
   "outputs": [
    {
     "data": {
      "text/plain": [
       "Year      0\n",
       "Player    0\n",
       "Pos       0\n",
       "Age       0\n",
       "Tm        0\n",
       "G         0\n",
       "MP        0\n",
       "PER       0\n",
       "TS%       0\n",
       "3PAr      0\n",
       "FTr       0\n",
       "ORB%      0\n",
       "DRB%      0\n",
       "TRB%      0\n",
       "AST%      0\n",
       "STL%      0\n",
       "BLK%      0\n",
       "TOV%      0\n",
       "USG%      0\n",
       "OWS       0\n",
       "DWS       0\n",
       "WS        0\n",
       "WS/48     0\n",
       "OBPM      0\n",
       "DBPM      0\n",
       "BPM       0\n",
       "VORP      0\n",
       "FG        0\n",
       "FGA       0\n",
       "FG%       0\n",
       "3P        0\n",
       "3PA       0\n",
       "3P%       0\n",
       "2P        0\n",
       "2PA       0\n",
       "2P%       0\n",
       "eFG%      0\n",
       "FT        0\n",
       "FTA       0\n",
       "FT%       0\n",
       "ORB       0\n",
       "DRB       0\n",
       "TRB       0\n",
       "AST       0\n",
       "STL       0\n",
       "BLK       0\n",
       "TOV       0\n",
       "PF        0\n",
       "PTS       0\n",
       "dtype: int64"
      ]
     },
     "execution_count": 2,
     "metadata": {},
     "output_type": "execute_result"
    }
   ],
   "source": [
    "#check for nulls\n",
    "ssc.isnull().sum()"
   ]
  },
  {
   "cell_type": "code",
   "execution_count": 3,
   "id": "d73d3446",
   "metadata": {},
   "outputs": [
    {
     "data": {
      "text/plain": [
       "Index            0\n",
       "Player           0\n",
       "height           0\n",
       "weight           0\n",
       "collage        348\n",
       "born             0\n",
       "birth_city     469\n",
       "birth_state    482\n",
       "dtype: int64"
      ]
     },
     "execution_count": 3,
     "metadata": {},
     "output_type": "execute_result"
    }
   ],
   "source": [
    "#check for nulls\n",
    "players.isnull().sum()"
   ]
  },
  {
   "cell_type": "code",
   "execution_count": 24,
   "id": "538a42cc",
   "metadata": {
    "scrolled": true
   },
   "outputs": [
    {
     "data": {
      "text/html": [
       "<div>\n",
       "<style scoped>\n",
       "    .dataframe tbody tr th:only-of-type {\n",
       "        vertical-align: middle;\n",
       "    }\n",
       "\n",
       "    .dataframe tbody tr th {\n",
       "        vertical-align: top;\n",
       "    }\n",
       "\n",
       "    .dataframe thead th {\n",
       "        text-align: right;\n",
       "    }\n",
       "</style>\n",
       "<table border=\"1\" class=\"dataframe\">\n",
       "  <thead>\n",
       "    <tr style=\"text-align: right;\">\n",
       "      <th></th>\n",
       "      <th>Index</th>\n",
       "      <th>Player</th>\n",
       "      <th>height</th>\n",
       "      <th>weight</th>\n",
       "      <th>collage</th>\n",
       "      <th>born</th>\n",
       "      <th>birth_city</th>\n",
       "      <th>birth_state</th>\n",
       "    </tr>\n",
       "  </thead>\n",
       "  <tbody>\n",
       "    <tr>\n",
       "      <th>0</th>\n",
       "      <td>0</td>\n",
       "      <td>Curly Armstrong</td>\n",
       "      <td>180</td>\n",
       "      <td>77</td>\n",
       "      <td>Indiana University</td>\n",
       "      <td>1918</td>\n",
       "      <td>NaN</td>\n",
       "      <td>NaN</td>\n",
       "    </tr>\n",
       "    <tr>\n",
       "      <th>1</th>\n",
       "      <td>1</td>\n",
       "      <td>Cliff Barker</td>\n",
       "      <td>188</td>\n",
       "      <td>83</td>\n",
       "      <td>University of Kentucky</td>\n",
       "      <td>1921</td>\n",
       "      <td>Yorktown</td>\n",
       "      <td>Indiana</td>\n",
       "    </tr>\n",
       "    <tr>\n",
       "      <th>2</th>\n",
       "      <td>2</td>\n",
       "      <td>Leo Barnhorst</td>\n",
       "      <td>193</td>\n",
       "      <td>86</td>\n",
       "      <td>University of Notre Dame</td>\n",
       "      <td>1924</td>\n",
       "      <td>NaN</td>\n",
       "      <td>NaN</td>\n",
       "    </tr>\n",
       "    <tr>\n",
       "      <th>3</th>\n",
       "      <td>3</td>\n",
       "      <td>Ed Bartels</td>\n",
       "      <td>196</td>\n",
       "      <td>88</td>\n",
       "      <td>North Carolina State University</td>\n",
       "      <td>1925</td>\n",
       "      <td>NaN</td>\n",
       "      <td>NaN</td>\n",
       "    </tr>\n",
       "    <tr>\n",
       "      <th>4</th>\n",
       "      <td>4</td>\n",
       "      <td>Ralph Beard</td>\n",
       "      <td>178</td>\n",
       "      <td>79</td>\n",
       "      <td>University of Kentucky</td>\n",
       "      <td>1927</td>\n",
       "      <td>Hardinsburg</td>\n",
       "      <td>Kentucky</td>\n",
       "    </tr>\n",
       "  </tbody>\n",
       "</table>\n",
       "</div>"
      ],
      "text/plain": [
       "   Index           Player  height  weight                          collage  \\\n",
       "0      0  Curly Armstrong     180      77               Indiana University   \n",
       "1      1     Cliff Barker     188      83           University of Kentucky   \n",
       "2      2    Leo Barnhorst     193      86         University of Notre Dame   \n",
       "3      3       Ed Bartels     196      88  North Carolina State University   \n",
       "4      4      Ralph Beard     178      79           University of Kentucky   \n",
       "\n",
       "   born   birth_city birth_state  \n",
       "0  1918          NaN         NaN  \n",
       "1  1921     Yorktown     Indiana  \n",
       "2  1924          NaN         NaN  \n",
       "3  1925          NaN         NaN  \n",
       "4  1927  Hardinsburg    Kentucky  "
      ]
     },
     "execution_count": 24,
     "metadata": {},
     "output_type": "execute_result"
    }
   ],
   "source": [
    "# checking data columns\n",
    "players.head()"
   ]
  },
  {
   "cell_type": "code",
   "execution_count": 5,
   "id": "6ae99cb1",
   "metadata": {},
   "outputs": [],
   "source": [
    "# Replace null for college \n",
    "players['collage'].fillna('No College', inplace = True)"
   ]
  },
  {
   "cell_type": "code",
   "execution_count": 6,
   "id": "c9e70287",
   "metadata": {},
   "outputs": [
    {
     "data": {
      "text/html": [
       "<div>\n",
       "<style scoped>\n",
       "    .dataframe tbody tr th:only-of-type {\n",
       "        vertical-align: middle;\n",
       "    }\n",
       "\n",
       "    .dataframe tbody tr th {\n",
       "        vertical-align: top;\n",
       "    }\n",
       "\n",
       "    .dataframe thead th {\n",
       "        text-align: right;\n",
       "    }\n",
       "</style>\n",
       "<table border=\"1\" class=\"dataframe\">\n",
       "  <thead>\n",
       "    <tr style=\"text-align: right;\">\n",
       "      <th></th>\n",
       "      <th>Year</th>\n",
       "      <th>Age</th>\n",
       "      <th>G</th>\n",
       "      <th>MP</th>\n",
       "      <th>PER</th>\n",
       "      <th>TS%</th>\n",
       "      <th>3PAr</th>\n",
       "      <th>FTr</th>\n",
       "      <th>ORB%</th>\n",
       "      <th>DRB%</th>\n",
       "      <th>...</th>\n",
       "      <th>FT%</th>\n",
       "      <th>ORB</th>\n",
       "      <th>DRB</th>\n",
       "      <th>TRB</th>\n",
       "      <th>AST</th>\n",
       "      <th>STL</th>\n",
       "      <th>BLK</th>\n",
       "      <th>TOV</th>\n",
       "      <th>PF</th>\n",
       "      <th>PTS</th>\n",
       "    </tr>\n",
       "  </thead>\n",
       "  <tbody>\n",
       "    <tr>\n",
       "      <th>count</th>\n",
       "      <td>18518.000000</td>\n",
       "      <td>18518.000000</td>\n",
       "      <td>18518.000000</td>\n",
       "      <td>18518.000000</td>\n",
       "      <td>18518.000000</td>\n",
       "      <td>18518.000000</td>\n",
       "      <td>18518.000000</td>\n",
       "      <td>18518.000000</td>\n",
       "      <td>18518.000000</td>\n",
       "      <td>18518.000000</td>\n",
       "      <td>...</td>\n",
       "      <td>18518.000000</td>\n",
       "      <td>18518.000000</td>\n",
       "      <td>18518.000000</td>\n",
       "      <td>18518.000000</td>\n",
       "      <td>18518.000000</td>\n",
       "      <td>18518.000000</td>\n",
       "      <td>18518.000000</td>\n",
       "      <td>18518.000000</td>\n",
       "      <td>18518.000000</td>\n",
       "      <td>18518.000000</td>\n",
       "    </tr>\n",
       "    <tr>\n",
       "      <th>mean</th>\n",
       "      <td>2001.380117</td>\n",
       "      <td>26.764661</td>\n",
       "      <td>49.206394</td>\n",
       "      <td>1163.295280</td>\n",
       "      <td>12.506135</td>\n",
       "      <td>0.504254</td>\n",
       "      <td>0.169930</td>\n",
       "      <td>0.314756</td>\n",
       "      <td>6.097921</td>\n",
       "      <td>13.856745</td>\n",
       "      <td>...</td>\n",
       "      <td>0.691803</td>\n",
       "      <td>59.843558</td>\n",
       "      <td>145.647208</td>\n",
       "      <td>205.490766</td>\n",
       "      <td>111.193487</td>\n",
       "      <td>38.801112</td>\n",
       "      <td>24.394697</td>\n",
       "      <td>72.270980</td>\n",
       "      <td>107.496544</td>\n",
       "      <td>491.184469</td>\n",
       "    </tr>\n",
       "    <tr>\n",
       "      <th>std</th>\n",
       "      <td>11.292776</td>\n",
       "      <td>4.034618</td>\n",
       "      <td>27.073209</td>\n",
       "      <td>929.831095</td>\n",
       "      <td>6.490797</td>\n",
       "      <td>0.104569</td>\n",
       "      <td>0.197101</td>\n",
       "      <td>0.235333</td>\n",
       "      <td>5.069410</td>\n",
       "      <td>6.797526</td>\n",
       "      <td>...</td>\n",
       "      <td>0.206221</td>\n",
       "      <td>66.318966</td>\n",
       "      <td>144.278312</td>\n",
       "      <td>204.684573</td>\n",
       "      <td>138.384001</td>\n",
       "      <td>38.124657</td>\n",
       "      <td>36.572065</td>\n",
       "      <td>67.135555</td>\n",
       "      <td>81.140070</td>\n",
       "      <td>486.132348</td>\n",
       "    </tr>\n",
       "    <tr>\n",
       "      <th>min</th>\n",
       "      <td>1980.000000</td>\n",
       "      <td>18.000000</td>\n",
       "      <td>1.000000</td>\n",
       "      <td>0.000000</td>\n",
       "      <td>-90.600000</td>\n",
       "      <td>0.000000</td>\n",
       "      <td>0.000000</td>\n",
       "      <td>0.000000</td>\n",
       "      <td>0.000000</td>\n",
       "      <td>0.000000</td>\n",
       "      <td>...</td>\n",
       "      <td>0.000000</td>\n",
       "      <td>0.000000</td>\n",
       "      <td>0.000000</td>\n",
       "      <td>0.000000</td>\n",
       "      <td>0.000000</td>\n",
       "      <td>0.000000</td>\n",
       "      <td>0.000000</td>\n",
       "      <td>0.000000</td>\n",
       "      <td>0.000000</td>\n",
       "      <td>0.000000</td>\n",
       "    </tr>\n",
       "    <tr>\n",
       "      <th>25%</th>\n",
       "      <td>1992.000000</td>\n",
       "      <td>24.000000</td>\n",
       "      <td>25.000000</td>\n",
       "      <td>301.000000</td>\n",
       "      <td>9.700000</td>\n",
       "      <td>0.474000</td>\n",
       "      <td>0.005000</td>\n",
       "      <td>0.193000</td>\n",
       "      <td>2.400000</td>\n",
       "      <td>9.000000</td>\n",
       "      <td>...</td>\n",
       "      <td>0.641000</td>\n",
       "      <td>11.000000</td>\n",
       "      <td>32.000000</td>\n",
       "      <td>45.000000</td>\n",
       "      <td>16.000000</td>\n",
       "      <td>8.000000</td>\n",
       "      <td>3.000000</td>\n",
       "      <td>17.000000</td>\n",
       "      <td>34.000000</td>\n",
       "      <td>92.000000</td>\n",
       "    </tr>\n",
       "    <tr>\n",
       "      <th>50%</th>\n",
       "      <td>2002.000000</td>\n",
       "      <td>26.000000</td>\n",
       "      <td>54.000000</td>\n",
       "      <td>987.000000</td>\n",
       "      <td>12.800000</td>\n",
       "      <td>0.519000</td>\n",
       "      <td>0.075000</td>\n",
       "      <td>0.283000</td>\n",
       "      <td>5.200000</td>\n",
       "      <td>12.900000</td>\n",
       "      <td>...</td>\n",
       "      <td>0.743000</td>\n",
       "      <td>36.000000</td>\n",
       "      <td>106.000000</td>\n",
       "      <td>146.000000</td>\n",
       "      <td>61.000000</td>\n",
       "      <td>28.000000</td>\n",
       "      <td>11.000000</td>\n",
       "      <td>54.000000</td>\n",
       "      <td>98.000000</td>\n",
       "      <td>341.000000</td>\n",
       "    </tr>\n",
       "    <tr>\n",
       "      <th>75%</th>\n",
       "      <td>2011.000000</td>\n",
       "      <td>29.000000</td>\n",
       "      <td>75.000000</td>\n",
       "      <td>1912.000000</td>\n",
       "      <td>15.800000</td>\n",
       "      <td>0.555000</td>\n",
       "      <td>0.307000</td>\n",
       "      <td>0.391000</td>\n",
       "      <td>8.900000</td>\n",
       "      <td>18.175000</td>\n",
       "      <td>...</td>\n",
       "      <td>0.811000</td>\n",
       "      <td>87.000000</td>\n",
       "      <td>212.000000</td>\n",
       "      <td>298.000000</td>\n",
       "      <td>153.000000</td>\n",
       "      <td>59.000000</td>\n",
       "      <td>30.000000</td>\n",
       "      <td>110.000000</td>\n",
       "      <td>169.000000</td>\n",
       "      <td>760.000000</td>\n",
       "    </tr>\n",
       "    <tr>\n",
       "      <th>max</th>\n",
       "      <td>2019.000000</td>\n",
       "      <td>44.000000</td>\n",
       "      <td>82.000000</td>\n",
       "      <td>3533.000000</td>\n",
       "      <td>133.800000</td>\n",
       "      <td>1.500000</td>\n",
       "      <td>1.000000</td>\n",
       "      <td>6.000000</td>\n",
       "      <td>100.000000</td>\n",
       "      <td>100.000000</td>\n",
       "      <td>...</td>\n",
       "      <td>1.000000</td>\n",
       "      <td>573.000000</td>\n",
       "      <td>1007.000000</td>\n",
       "      <td>1530.000000</td>\n",
       "      <td>1164.000000</td>\n",
       "      <td>301.000000</td>\n",
       "      <td>456.000000</td>\n",
       "      <td>464.000000</td>\n",
       "      <td>386.000000</td>\n",
       "      <td>3041.000000</td>\n",
       "    </tr>\n",
       "  </tbody>\n",
       "</table>\n",
       "<p>8 rows × 46 columns</p>\n",
       "</div>"
      ],
      "text/plain": [
       "               Year           Age             G            MP           PER  \\\n",
       "count  18518.000000  18518.000000  18518.000000  18518.000000  18518.000000   \n",
       "mean    2001.380117     26.764661     49.206394   1163.295280     12.506135   \n",
       "std       11.292776      4.034618     27.073209    929.831095      6.490797   \n",
       "min     1980.000000     18.000000      1.000000      0.000000    -90.600000   \n",
       "25%     1992.000000     24.000000     25.000000    301.000000      9.700000   \n",
       "50%     2002.000000     26.000000     54.000000    987.000000     12.800000   \n",
       "75%     2011.000000     29.000000     75.000000   1912.000000     15.800000   \n",
       "max     2019.000000     44.000000     82.000000   3533.000000    133.800000   \n",
       "\n",
       "                TS%          3PAr           FTr          ORB%          DRB%  \\\n",
       "count  18518.000000  18518.000000  18518.000000  18518.000000  18518.000000   \n",
       "mean       0.504254      0.169930      0.314756      6.097921     13.856745   \n",
       "std        0.104569      0.197101      0.235333      5.069410      6.797526   \n",
       "min        0.000000      0.000000      0.000000      0.000000      0.000000   \n",
       "25%        0.474000      0.005000      0.193000      2.400000      9.000000   \n",
       "50%        0.519000      0.075000      0.283000      5.200000     12.900000   \n",
       "75%        0.555000      0.307000      0.391000      8.900000     18.175000   \n",
       "max        1.500000      1.000000      6.000000    100.000000    100.000000   \n",
       "\n",
       "       ...           FT%           ORB           DRB           TRB  \\\n",
       "count  ...  18518.000000  18518.000000  18518.000000  18518.000000   \n",
       "mean   ...      0.691803     59.843558    145.647208    205.490766   \n",
       "std    ...      0.206221     66.318966    144.278312    204.684573   \n",
       "min    ...      0.000000      0.000000      0.000000      0.000000   \n",
       "25%    ...      0.641000     11.000000     32.000000     45.000000   \n",
       "50%    ...      0.743000     36.000000    106.000000    146.000000   \n",
       "75%    ...      0.811000     87.000000    212.000000    298.000000   \n",
       "max    ...      1.000000    573.000000   1007.000000   1530.000000   \n",
       "\n",
       "                AST           STL           BLK           TOV            PF  \\\n",
       "count  18518.000000  18518.000000  18518.000000  18518.000000  18518.000000   \n",
       "mean     111.193487     38.801112     24.394697     72.270980    107.496544   \n",
       "std      138.384001     38.124657     36.572065     67.135555     81.140070   \n",
       "min        0.000000      0.000000      0.000000      0.000000      0.000000   \n",
       "25%       16.000000      8.000000      3.000000     17.000000     34.000000   \n",
       "50%       61.000000     28.000000     11.000000     54.000000     98.000000   \n",
       "75%      153.000000     59.000000     30.000000    110.000000    169.000000   \n",
       "max     1164.000000    301.000000    456.000000    464.000000    386.000000   \n",
       "\n",
       "                PTS  \n",
       "count  18518.000000  \n",
       "mean     491.184469  \n",
       "std      486.132348  \n",
       "min        0.000000  \n",
       "25%       92.000000  \n",
       "50%      341.000000  \n",
       "75%      760.000000  \n",
       "max     3041.000000  \n",
       "\n",
       "[8 rows x 46 columns]"
      ]
     },
     "execution_count": 6,
     "metadata": {},
     "output_type": "execute_result"
    }
   ],
   "source": [
    "ssc.describe()"
   ]
  },
  {
   "cell_type": "code",
   "execution_count": 9,
   "id": "df737e80",
   "metadata": {},
   "outputs": [],
   "source": [
    "ssc['ppg'] = ssc.PTS/ssc.G"
   ]
  },
  {
   "cell_type": "code",
   "execution_count": 11,
   "id": "c92e7f5d",
   "metadata": {
    "scrolled": true
   },
   "outputs": [
    {
     "data": {
      "text/html": [
       "<div>\n",
       "<style scoped>\n",
       "    .dataframe tbody tr th:only-of-type {\n",
       "        vertical-align: middle;\n",
       "    }\n",
       "\n",
       "    .dataframe tbody tr th {\n",
       "        vertical-align: top;\n",
       "    }\n",
       "\n",
       "    .dataframe thead th {\n",
       "        text-align: right;\n",
       "    }\n",
       "</style>\n",
       "<table border=\"1\" class=\"dataframe\">\n",
       "  <thead>\n",
       "    <tr style=\"text-align: right;\">\n",
       "      <th></th>\n",
       "      <th>player</th>\n",
       "      <th>ppg</th>\n",
       "      <th>Games played</th>\n",
       "      <th>points</th>\n",
       "    </tr>\n",
       "  </thead>\n",
       "  <tbody>\n",
       "    <tr>\n",
       "      <th>2069</th>\n",
       "      <td>Michael Jordan*</td>\n",
       "      <td>29.444797</td>\n",
       "      <td>1072</td>\n",
       "      <td>2152.800000</td>\n",
       "    </tr>\n",
       "    <tr>\n",
       "      <th>1832</th>\n",
       "      <td>LeBron James</td>\n",
       "      <td>27.156870</td>\n",
       "      <td>1198</td>\n",
       "      <td>2033.937500</td>\n",
       "    </tr>\n",
       "    <tr>\n",
       "      <th>1710</th>\n",
       "      <td>Kevin Durant</td>\n",
       "      <td>26.886232</td>\n",
       "      <td>849</td>\n",
       "      <td>1911.666667</td>\n",
       "    </tr>\n",
       "    <tr>\n",
       "      <th>1067</th>\n",
       "      <td>George Gervin*</td>\n",
       "      <td>25.988089</td>\n",
       "      <td>547</td>\n",
       "      <td>2030.857143</td>\n",
       "    </tr>\n",
       "    <tr>\n",
       "      <th>76</th>\n",
       "      <td>Allen Iverson*</td>\n",
       "      <td>25.029824</td>\n",
       "      <td>914</td>\n",
       "      <td>1433.411765</td>\n",
       "    </tr>\n",
       "    <tr>\n",
       "      <th>1638</th>\n",
       "      <td>Karl Malone*</td>\n",
       "      <td>24.682985</td>\n",
       "      <td>1476</td>\n",
       "      <td>1943.578947</td>\n",
       "    </tr>\n",
       "    <tr>\n",
       "      <th>838</th>\n",
       "      <td>Dominique Wilkins*</td>\n",
       "      <td>24.239285</td>\n",
       "      <td>1074</td>\n",
       "      <td>1666.750000</td>\n",
       "    </tr>\n",
       "    <tr>\n",
       "      <th>1286</th>\n",
       "      <td>James Harden</td>\n",
       "      <td>24.220056</td>\n",
       "      <td>765</td>\n",
       "      <td>1862.700000</td>\n",
       "    </tr>\n",
       "    <tr>\n",
       "      <th>1755</th>\n",
       "      <td>Kobe Bryant</td>\n",
       "      <td>24.207550</td>\n",
       "      <td>1346</td>\n",
       "      <td>1682.150000</td>\n",
       "    </tr>\n",
       "    <tr>\n",
       "      <th>1804</th>\n",
       "      <td>Larry Bird*</td>\n",
       "      <td>23.754874</td>\n",
       "      <td>897</td>\n",
       "      <td>1676.230769</td>\n",
       "    </tr>\n",
       "  </tbody>\n",
       "</table>\n",
       "</div>"
      ],
      "text/plain": [
       "                  player        ppg  Games played       points\n",
       "2069     Michael Jordan*  29.444797          1072  2152.800000\n",
       "1832        LeBron James  27.156870          1198  2033.937500\n",
       "1710        Kevin Durant  26.886232           849  1911.666667\n",
       "1067      George Gervin*  25.988089           547  2030.857143\n",
       "76        Allen Iverson*  25.029824           914  1433.411765\n",
       "1638        Karl Malone*  24.682985          1476  1943.578947\n",
       "838   Dominique Wilkins*  24.239285          1074  1666.750000\n",
       "1286        James Harden  24.220056           765  1862.700000\n",
       "1755         Kobe Bryant  24.207550          1346  1682.150000\n",
       "1804         Larry Bird*  23.754874           897  1676.230769"
      ]
     },
     "execution_count": 11,
     "metadata": {},
     "output_type": "execute_result"
    }
   ],
   "source": [
    "ppg = pd.DataFrame()\n",
    "ppg['player'] = ssc.groupby('Player').mean()['ppg'].index\n",
    "ppg['ppg'] = ssc.groupby('Player').mean()['ppg'].values\n",
    "ppg['Games played'] = ssc.groupby('Player').sum()['G'].values\n",
    "ppg['points'] = ssc.groupby('Player').mean()['PTS'].values\n",
    "ppg = ppg.sort_values('ppg', ascending=False).head(10)\n",
    "ppg"
   ]
  },
  {
   "cell_type": "code",
   "execution_count": 20,
   "id": "fee0ff4d",
   "metadata": {},
   "outputs": [
    {
     "name": "stderr",
     "output_type": "stream",
     "text": [
      "C:\\Users\\Amanu\\.virtualenvs\\Tekle_Amanuel_Capstone2-w0N8gz-z\\lib\\site-packages\\seaborn\\distributions.py:2619: FutureWarning: `distplot` is a deprecated function and will be removed in a future version. Please adapt your code to use either `displot` (a figure-level function with similar flexibility) or `histplot` (an axes-level function for histograms).\n",
      "  warnings.warn(msg, FutureWarning)\n"
     ]
    },
    {
     "data": {
      "text/plain": [
       "<AxesSubplot:xlabel='ppg', ylabel='Density'>"
      ]
     },
     "execution_count": 20,
     "metadata": {},
     "output_type": "execute_result"
    },
    {
     "data": {
      "image/png": "[encoded data removed]",
      "text/plain": [
       "<Figure size 432x288 with 1 Axes>"
      ]
     },
     "metadata": {},
     "output_type": "display_data"
    }
   ],
   "source": [
    "sns.distplot(ppg['ppg'])"
   ]
  },
  {
   "cell_type": "code",
   "execution_count": 40,
   "id": "c92d598e",
   "metadata": {},
   "outputs": [
    {
     "name": "stdout",
     "output_type": "stream",
     "text": [
      "The distribution of 3 point attempts is heavily skewed to the right with a mean of 67.71746408899449 and a std of 107.71339163069169\n"
     ]
    },
    {
     "data": {
      "text/plain": [
       "array([[<AxesSubplot:title={'center':'3PA'}>]], dtype=object)"
      ]
     },
     "execution_count": 40,
     "metadata": {},
     "output_type": "execute_result"
    },
    {
     "data": {
      "image/png": "[encoded data removed]",
      "text/plain": [
       "<Figure size 432x288 with 1 Axes>"
      ]
     },
     "metadata": {},
     "output_type": "display_data"
    }
   ],
   "source": [
    "# The distribution of 3 point attempt is heaily skewed to the right\n",
    "# print(ssc['3PA'].mean())\n",
    "# print(np.std(ssc['3PA']))\n",
    "\n",
    "print('The distribution of 3 point attempts is heavily skewed to the right with a mean of ' + str(ssc['3PA'].mean()) + ' and a std of ' + str(np.std(ssc['3PA'])))\n",
    "ssc.hist('3PA')"
   ]
  },
  {
   "cell_type": "code",
   "execution_count": 38,
   "id": "f0007fc9",
   "metadata": {},
   "outputs": [
    {
     "name": "stdout",
     "output_type": "stream",
     "text": [
      "2.457733016524463\n",
      "2.9940646512688445\n"
     ]
    }
   ],
   "source": [
    "# Distribution check for WS\n",
    "print(ssc['WS'].mean())\n",
    "print(np.std(ssc['WS']))"
   ]
  },
  {
   "cell_type": "code",
   "execution_count": 23,
   "id": "d1450275",
   "metadata": {},
   "outputs": [
    {
     "data": {
      "text/plain": [
       "array([[<AxesSubplot:title={'center':'WS'}>]], dtype=object)"
      ]
     },
     "execution_count": 23,
     "metadata": {},
     "output_type": "execute_result"
    },
    {
     "data": {
      "image/png": "[encoded data removed]",
      "text/plain": [
       "<Figure size 432x288 with 1 Axes>"
      ]
     },
     "metadata": {},
     "output_type": "display_data"
    }
   ],
   "source": [
    "ssc.hist('WS')"
   ]
  },
  {
   "cell_type": "code",
   "execution_count": 13,
   "id": "9b8e8ec6",
   "metadata": {
    "scrolled": false
   },
   "outputs": [
    {
     "name": "stdout",
     "output_type": "stream",
     "text": [
      "          3PA        WS\n",
      "3PA  1.000000  0.421727\n",
      "WS   0.421727  1.000000\n"
     ]
    },
    {
     "data": {
      "text/plain": [
       "<AxesSubplot:>"
      ]
     },
     "execution_count": 13,
     "metadata": {},
     "output_type": "execute_result"
    },
    {
     "data": {
      "image/png": "[encoded data removed]",
      "text/plain": [
       "<Figure size 432x288 with 2 Axes>"
      ]
     },
     "metadata": {},
     "output_type": "display_data"
    }
   ],
   "source": [
    "num_col = ['3PA','WS']\n",
    "corr_matrix = ssc.loc[:,num_col].corr()\n",
    "print(corr_matrix)\n",
    "sns.heatmap(corr_matrix, annot=True)"
   ]
  },
  {
   "cell_type": "code",
   "execution_count": 15,
   "id": "1d49cd86",
   "metadata": {},
   "outputs": [
    {
     "data": {
      "text/plain": [
       "<seaborn.axisgrid.FacetGrid at 0x15e8e241180>"
      ]
     },
     "execution_count": 15,
     "metadata": {},
     "output_type": "execute_result"
    },
    {
     "data": {
      "image/png": "[encoded data removed]",
      "text/plain": [
       "<Figure size 360x360 with 1 Axes>"
      ]
     },
     "metadata": {},
     "output_type": "display_data"
    }
   ],
   "source": [
    "sns.lmplot(x='3PA', y='FG', data=ssc)"
   ]
  }
 ],
 "metadata": {
  "kernelspec": {
   "display_name": "Python 3 (ipykernel)",
   "language": "python",
   "name": "python3"
  },
  "language_info": {
   "codemirror_mode": {
    "name": "ipython",
    "version": 3
   },
   "file_extension": ".py",
   "mimetype": "text/x-python",
   "name": "python",
   "nbconvert_exporter": "python",
   "pygments_lexer": "ipython3",
   "version": "3.10.4"
  }
 },
 "nbformat": 4,
 "nbformat_minor": 5
}
